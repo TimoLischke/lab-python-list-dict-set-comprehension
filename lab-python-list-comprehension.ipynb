{
 "cells": [
  {
   "cell_type": "markdown",
   "id": "25d7736c-ba17-4aff-b6bb-66eba20fbf4e",
   "metadata": {},
   "source": [
    "# Lab | List, Dict and Set Comprehension"
   ]
  },
  {
   "cell_type": "markdown",
   "id": "7dd3cbde-675a-4b81-92c3-f728846dbe06",
   "metadata": {},
   "source": [
    "## Exercise: Managing Customer Orders Optimized with Comprehension"
   ]
  },
  {
   "cell_type": "raw",
   "id": "6f462eb0-b37b-4ca7-8e94-6bfe8611683c",
   "metadata": {},
   "source": [
    "In the previous exercise, you developed a program to manage customer orders and inventory. Now, let's take it a step further and incorporate comprehension into your code.\n",
    "\n",
    "Follow the steps below to complete the exercise:\n",
    "\n",
    "1. Review your code from the previous exercise and identify areas where you can apply comprehension to simplify and streamline your code. \n",
    "\n",
    "    - *Hint: Apply it to initialize inventory, updating the inventory and printing the updated inventory.*\n",
    "    \n",
    "    - For example, in initializing the inventory, we could have:\n",
    "    \n",
    "        ```python\n",
    "        def initialize_inventory(products):\n",
    "            inventory = {product: int(input(f\"Enter the quantity of {product}s available: \")) for product in products}\n",
    "            return inventory\n",
    "\n",
    "        ```\n",
    "<br>\n",
    "    \n",
    "    \n",
    "2. Modify the function get_customer_orders so it prompts the user to enter the number of customer orders and gathers the product names using a loop and user input. Use comprehension.\n",
    "\n",
    "3. Add a new function to calculate the total price of the customer order. For each product in customer_orders, prompt the user to enter the price of that product. Use comprehension to calculate the total price. Note: assume that the user can only have 1 unit of each product.\n",
    "\n",
    "4. Modify the update_inventory function to remove the product from the inventory if its quantity becomes zero after fulfilling the customer orders. Use comprehension to filter out the products with a quantity of zero from the inventory.\n",
    "\n",
    "5. Print the total price of the customer order.\n",
    "\n",
    "Your code should produce output similar to the following:\n",
    "\n",
    "```python\n",
    "Enter the quantity of t-shirts available:  5\n",
    "Enter the quantity of mugs available:  4\n",
    "Enter the quantity of hats available:  3\n",
    "Enter the quantity of books available:  2\n",
    "Enter the quantity of keychains available:  1\n",
    "Enter the number of customer orders:  2\n",
    "Enter the name of a product that a customer wants to order:  hat\n",
    "Enter the name of a product that a customer wants to order:  keychain\n",
    "\n",
    "Order Statistics:\n",
    "Total Products Ordered: 2\n",
    "Percentage of Unique Products Ordered: 40.0\n",
    "\n",
    "Updated Inventory:\n",
    "t-shirt: 5\n",
    "mug: 4\n",
    "hat: 2\n",
    "book: 2\n",
    "Enter the price of keychain:  5\n",
    "Enter the price of hat:  10\n",
    "Total Price: 15.0\n",
    "\n",
    "```\n"
   ]
  },
  {
   "cell_type": "code",
   "execution_count": 1,
   "id": "a9415374-2d6e-40f4-8835-cb8d9e6c8915",
   "metadata": {},
   "outputs": [
    {
     "name": "stdin",
     "output_type": "stream",
     "text": [
      "Please enter the quantity of t-shirts available:  10\n",
      "Please enter the quantity of mugs available:  20\n",
      "Please enter the quantity of hats available:  30\n",
      "Please enter the quantity of books available:  40\n",
      "Please enter the quantity of keychains available:  50\n"
     ]
    },
    {
     "data": {
      "text/plain": [
       "{'t-shirt': 10, 'mug': 20, 'hat': 30, 'book': 40, 'keychain': 50}"
      ]
     },
     "execution_count": 1,
     "metadata": {},
     "output_type": "execute_result"
    }
   ],
   "source": [
    "# Apply comprehension to simplify and streamline your code for inventory initializing\n",
    "\n",
    "products = [\"t-shirt\", \"mug\", \"hat\", \"book\", \"keychain\"]\n",
    "inventory = {}\n",
    "\n",
    "def initialize_inventory(products):\n",
    "    inventory = {product: int(input(f\"Please enter the quantity of {product}s available: \")) for product in products}\n",
    "    return inventory\n",
    "\n",
    "initialize_inventory(products)"
   ]
  },
  {
   "cell_type": "code",
   "execution_count": null,
   "id": "bc43f138-2fc4-461d-9539-a551896db3d9",
   "metadata": {},
   "outputs": [],
   "source": [
    "# Modify the function get_customer_orders so it prompts the user to enter the number of customer orders\n",
    "# and gathers the product names using a loop and user input. Use comprehension.\n",
    "\n",
    "customer_orders = set()\n",
    "selected_item = set()\n",
    "number_of_orders = set()\n",
    "\n",
    "def get_customer_orders(number_of_orders):\n",
    "    number_of_orders = (input(f\"Please enter the number of ordered products by customer: \"))\n",
    "    defined_orders = 0\n",
    "    while number_of_orders > defined_orders:\n",
    "        selected_item = (input(f\"Please enter the product ordered by customer: \") for selected_item in customer_orders)\n",
    "        if selected_item in products:\n",
    "            print(f\"{selected_item} found in inventory.\")\n",
    "            customer_orders.add(selected_item)\n",
    "            defined_orders += 1\n",
    "        else:\n",
    "            print(f\"{selected_item} not found in inventory.\") # Continue the loop until the user does not want to add another product.\n",
    "    return customer_orders\n",
    "\n",
    "get_customer_orders(number_of_orders)"
   ]
  },
  {
   "cell_type": "code",
   "execution_count": null,
   "id": "688d7f22-0afe-4516-b6b5-aaba99ed8fed",
   "metadata": {},
   "outputs": [],
   "source": [
    "# Add a new function to calculate the total price of the customer order. \n",
    "# For each product in customer_orders, prompt the user to enter the price of that product. \n",
    "# Use comprehension to calculate the total price. \n",
    "# Note: assume that the user can only have 1 unit of each product.\n",
    "\n",
    "item_price = set()\n",
    "selected_item_and_price = {customer_orders,}\n",
    "\n",
    "def get_customer_orders_price():\n",
    "    selected_item_and_price = {customer_orders:input(f\"Please enter the price of the ordered product: \") for item_price}\n",
    "    return total_price = sum(item_price)\n",
    "    \n",
    "get_customer_orders_price()"
   ]
  },
  {
   "cell_type": "code",
   "execution_count": null,
   "id": "870de366-0b20-4fa6-9280-158f4d85d876",
   "metadata": {},
   "outputs": [],
   "source": [
    "# Apply comprehension to simplify and streamline your code for inventory updating\n",
    "# Modify the update_inventory function to remove the product from the inventory if its quantity becomes zero after fulfilling the customer orders. \n",
    "# Use comprehension to filter out the products with a quantity of zero from the inventory.\n",
    "\n",
    "def update_inventory(customer_orders, inventory):\n",
    "    for customer_order in customer_orders:\n",
    "        if inventory[customer_order] > 1:\n",
    "            inventory[customer_order] -= 1\n",
    "        elif inventory[customer_order] == 1:\n",
    "            inventory[customer_order] -= 1\n",
    "            inventory.remove(customer_order)\n",
    "        else:\n",
    "            print(f\"{customer_order} not in inventory.\")\n",
    "    return print(inventory)\n",
    "\n",
    "update_inventory(customer_orders, inventory)"
   ]
  },
  {
   "cell_type": "code",
   "execution_count": null,
   "id": "aa2da793-cd0f-4208-934f-1ab87ba8de82",
   "metadata": {},
   "outputs": [],
   "source": [
    "# Include calculating the total price of the customer order.\n",
    "\n",
    "order_statistics=set()\n",
    "\n",
    "def calculate_order_statistics(customer_orders, products):\n",
    "    for total_products_ordered in customer_orders:\n",
    "        total_products_ordered = len(customer_orders)\n",
    "        order_statistics.add(total_products_ordered)\n",
    "        print(f\"The total number of ordered products is: {total_products_ordered}.\")\n",
    "    for percentage_of_unique_products_ordered in products:\n",
    "        percentage_of_unique_products_ordered = len(customer_orders)/len(products)*100\n",
    "        order_statistics.add(percentage_of_unique_products_ordered)\n",
    "        print(f\"The percentage of unique products ordered is: {percentage_of_unique_products_ordered} %.\")\n",
    "    for item_price in total_price:\n",
    "        total_price = sum(item_price)\n",
    "        print(f\"The total price of the customer´s order is: {total_price}.\")\n",
    "        \n",
    "calculate_order_statistics(customer_orders, products)\n",
    "print(order_statistics)"
   ]
  },
  {
   "cell_type": "code",
   "execution_count": null,
   "id": "d6247b40-5cfe-46dd-bef3-740df591fd38",
   "metadata": {},
   "outputs": [],
   "source": [
    "# Include printing the total price of the customer order.\n",
    "\n",
    "def print_order_statistics(order_statistics):\n",
    "    print(f\"The customer has ordered the following products: {customer_orders}\")\n",
    "    print(f\"The total number of ordered products is: {len(customer_orders)}.\")\n",
    "    print(f\"The percentage of unique products ordered is: {len(customer_orders)/len(products)*100} %.\")\n",
    "    print(f\"The total price of the customer´s order is: {total_price = sum(item_price)}.\")\n",
    "\n",
    "print_order_statistics(order_statistics)"
   ]
  },
  {
   "cell_type": "code",
   "execution_count": null,
   "id": "60f6f861-bd52-4ded-a4c2-93cc82edb5d6",
   "metadata": {},
   "outputs": [],
   "source": []
  }
 ],
 "metadata": {
  "kernelspec": {
   "display_name": "Python [conda env:base] *",
   "language": "python",
   "name": "conda-base-py"
  },
  "language_info": {
   "codemirror_mode": {
    "name": "ipython",
    "version": 3
   },
   "file_extension": ".py",
   "mimetype": "text/x-python",
   "name": "python",
   "nbconvert_exporter": "python",
   "pygments_lexer": "ipython3",
   "version": "3.12.7"
  }
 },
 "nbformat": 4,
 "nbformat_minor": 5
}
